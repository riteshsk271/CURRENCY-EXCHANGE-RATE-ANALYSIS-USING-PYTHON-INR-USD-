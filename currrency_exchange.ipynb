{
 "cells": [
  {
   "cell_type": "code",
   "execution_count": 1,
   "metadata": {},
   "outputs": [],
   "source": [
    "import numpy  as np\n",
    "import pandas as pd\n",
    "#import pandas_datareader.data as web\n",
    "import matplotlib \n",
    "from matplotlib import style\n",
    "import datetime as dt\n",
    "import matplotlib.pyplot as plt\n",
    "import sklearn\n",
    "from sklearn import preprocessing as pre\n",
    "from sklearn.preprocessing import StandardScaler\n",
    "from sklearn.preprocessing import Normalizer\n",
    "from sklearn.preprocessing import Binarizer\n",
    "from sklearn import svm\n",
    "\n",
    "dataset=pd.read_csv('INRUSD1.csv')\n",
    "\n",
    "import tensorflow\n",
    "import warnings\n",
    "warnings.filterwarnings('ignore')"
   ]
  },
  {
   "cell_type": "code",
   "execution_count": 2,
   "metadata": {},
   "outputs": [
    {
     "name": "stdout",
     "output_type": "stream",
     "text": [
      "        Date   Price    Open    High     Low  Change %\n",
      "0   6-Nov-19  71.010  70.769  71.036  70.769      0.33\n",
      "1   5-Nov-19  70.775  70.804  70.855  70.625     -0.02\n",
      "2   4-Nov-19  70.789  70.552  70.802  70.552      0.04\n",
      "3   1-Nov-19  70.760  70.972  70.990  70.760     -0.31\n",
      "4  31-Oct-19  70.980  70.762  71.065  70.724      0.04\n",
      "Date        False\n",
      "Price       False\n",
      "Open        False\n",
      "High        False\n",
      "Low         False\n",
      "Change %    False\n",
      "dtype: bool\n",
      "Date        0\n",
      "Price       0\n",
      "Open        0\n",
      "High        0\n",
      "Low         0\n",
      "Change %    0\n",
      "dtype: int64\n"
     ]
    },
    {
     "data": {
      "text/plain": [
       "Date         object\n",
       "Price       float64\n",
       "Open        float64\n",
       "High        float64\n",
       "Low         float64\n",
       "Change %    float64\n",
       "dtype: object"
      ]
     },
     "execution_count": 2,
     "metadata": {},
     "output_type": "execute_result"
    }
   ],
   "source": [
    "#DATA PREPROCESSING\n",
    "print(dataset.head(5))\n",
    "\n",
    "print(dataset.isnull().any())\n",
    "print(dataset.isnull().sum())\n",
    "\n",
    "dataset.dtypes "
   ]
  },
  {
   "cell_type": "code",
   "execution_count": 3,
   "metadata": {},
   "outputs": [
    {
     "data": {
      "text/html": [
       "<div>\n",
       "<style scoped>\n",
       "    .dataframe tbody tr th:only-of-type {\n",
       "        vertical-align: middle;\n",
       "    }\n",
       "\n",
       "    .dataframe tbody tr th {\n",
       "        vertical-align: top;\n",
       "    }\n",
       "\n",
       "    .dataframe thead th {\n",
       "        text-align: right;\n",
       "    }\n",
       "</style>\n",
       "<table border=\"1\" class=\"dataframe\">\n",
       "  <thead>\n",
       "    <tr style=\"text-align: right;\">\n",
       "      <th></th>\n",
       "      <th>Price</th>\n",
       "      <th>Open</th>\n",
       "      <th>High</th>\n",
       "      <th>Low</th>\n",
       "      <th>Change %</th>\n",
       "    </tr>\n",
       "  </thead>\n",
       "  <tbody>\n",
       "    <tr>\n",
       "      <th>0</th>\n",
       "      <td>71.010</td>\n",
       "      <td>70.769</td>\n",
       "      <td>71.036</td>\n",
       "      <td>70.769</td>\n",
       "      <td>0.33</td>\n",
       "    </tr>\n",
       "    <tr>\n",
       "      <th>1</th>\n",
       "      <td>70.775</td>\n",
       "      <td>70.804</td>\n",
       "      <td>70.855</td>\n",
       "      <td>70.625</td>\n",
       "      <td>-0.02</td>\n",
       "    </tr>\n",
       "    <tr>\n",
       "      <th>2</th>\n",
       "      <td>70.789</td>\n",
       "      <td>70.552</td>\n",
       "      <td>70.802</td>\n",
       "      <td>70.552</td>\n",
       "      <td>0.04</td>\n",
       "    </tr>\n",
       "    <tr>\n",
       "      <th>3</th>\n",
       "      <td>70.760</td>\n",
       "      <td>70.972</td>\n",
       "      <td>70.990</td>\n",
       "      <td>70.760</td>\n",
       "      <td>-0.31</td>\n",
       "    </tr>\n",
       "    <tr>\n",
       "      <th>4</th>\n",
       "      <td>70.980</td>\n",
       "      <td>70.762</td>\n",
       "      <td>71.065</td>\n",
       "      <td>70.724</td>\n",
       "      <td>0.04</td>\n",
       "    </tr>\n",
       "    <tr>\n",
       "      <th>...</th>\n",
       "      <td>...</td>\n",
       "      <td>...</td>\n",
       "      <td>...</td>\n",
       "      <td>...</td>\n",
       "      <td>...</td>\n",
       "    </tr>\n",
       "    <tr>\n",
       "      <th>4928</th>\n",
       "      <td>46.755</td>\n",
       "      <td>46.785</td>\n",
       "      <td>46.822</td>\n",
       "      <td>46.510</td>\n",
       "      <td>0.05</td>\n",
       "    </tr>\n",
       "    <tr>\n",
       "      <th>4929</th>\n",
       "      <td>46.730</td>\n",
       "      <td>46.750</td>\n",
       "      <td>46.795</td>\n",
       "      <td>46.620</td>\n",
       "      <td>-0.04</td>\n",
       "    </tr>\n",
       "    <tr>\n",
       "      <th>4930</th>\n",
       "      <td>46.750</td>\n",
       "      <td>46.750</td>\n",
       "      <td>46.810</td>\n",
       "      <td>46.700</td>\n",
       "      <td>0.05</td>\n",
       "    </tr>\n",
       "    <tr>\n",
       "      <th>4931</th>\n",
       "      <td>46.725</td>\n",
       "      <td>46.825</td>\n",
       "      <td>46.845</td>\n",
       "      <td>46.725</td>\n",
       "      <td>-0.04</td>\n",
       "    </tr>\n",
       "    <tr>\n",
       "      <th>4932</th>\n",
       "      <td>46.745</td>\n",
       "      <td>46.705</td>\n",
       "      <td>46.835</td>\n",
       "      <td>46.655</td>\n",
       "      <td>-0.05</td>\n",
       "    </tr>\n",
       "  </tbody>\n",
       "</table>\n",
       "<p>4933 rows × 5 columns</p>\n",
       "</div>"
      ],
      "text/plain": [
       "       Price    Open    High     Low  Change %\n",
       "0     71.010  70.769  71.036  70.769      0.33\n",
       "1     70.775  70.804  70.855  70.625     -0.02\n",
       "2     70.789  70.552  70.802  70.552      0.04\n",
       "3     70.760  70.972  70.990  70.760     -0.31\n",
       "4     70.980  70.762  71.065  70.724      0.04\n",
       "...      ...     ...     ...     ...       ...\n",
       "4928  46.755  46.785  46.822  46.510      0.05\n",
       "4929  46.730  46.750  46.795  46.620     -0.04\n",
       "4930  46.750  46.750  46.810  46.700      0.05\n",
       "4931  46.725  46.825  46.845  46.725     -0.04\n",
       "4932  46.745  46.705  46.835  46.655     -0.05\n",
       "\n",
       "[4933 rows x 5 columns]"
      ]
     },
     "metadata": {},
     "output_type": "display_data"
    },
    {
     "name": "stdout",
     "output_type": "stream",
     "text": [
      "Co-Variance =               Price       Open       High        Low  Change %\n",
      "Price     93.582872  93.658372  93.575527  93.451728  0.091338\n",
      "Open      93.658372  93.781324  93.669387  93.555308  0.009690\n",
      "High      93.575527  93.669387  93.591759  93.447935  0.057275\n",
      "Low       93.451728  93.555308  93.447935  93.349405  0.041986\n",
      "Change %   0.091338   0.009690   0.057275   0.041986  0.174311\n",
      "Co-Relation =              Price      Open      High       Low  Change %\n",
      "Price     1.000000  0.999747  0.999874  0.999847  0.022615\n",
      "Open      0.999747  1.000000  0.999817  0.999895  0.002397\n",
      "High      0.999874  0.999817  1.000000  0.999759  0.014180\n",
      "Low       0.999847  0.999895  0.999759  1.000000  0.010408\n",
      "Change %  0.022615  0.002397  0.014180  0.010408  1.000000\n"
     ]
    }
   ],
   "source": [
    "dataset = dataset.drop(columns=['Date' ] , axis=1)\n",
    "display(dataset)\n",
    "dataset.to_csv('INRUSD2.csv' , index= False)\n",
    "dataset=pd.read_csv('INRUSD2.csv')\n",
    "print(\"Co-Variance =\",dataset.cov())\n",
    "print(\"Co-Relation =\",dataset.corr())"
   ]
  },
  {
   "cell_type": "code",
   "execution_count": 4,
   "metadata": {},
   "outputs": [
    {
     "data": {
      "text/html": [
       "<div>\n",
       "<style scoped>\n",
       "    .dataframe tbody tr th:only-of-type {\n",
       "        vertical-align: middle;\n",
       "    }\n",
       "\n",
       "    .dataframe tbody tr th {\n",
       "        vertical-align: top;\n",
       "    }\n",
       "\n",
       "    .dataframe thead th {\n",
       "        text-align: right;\n",
       "    }\n",
       "</style>\n",
       "<table border=\"1\" class=\"dataframe\">\n",
       "  <thead>\n",
       "    <tr style=\"text-align: right;\">\n",
       "      <th></th>\n",
       "      <th>Price</th>\n",
       "      <th>Open</th>\n",
       "      <th>High</th>\n",
       "      <th>Low</th>\n",
       "      <th>Change %</th>\n",
       "    </tr>\n",
       "  </thead>\n",
       "  <tbody>\n",
       "    <tr>\n",
       "      <th>0</th>\n",
       "      <td>71.010</td>\n",
       "      <td>70.769</td>\n",
       "      <td>71.036</td>\n",
       "      <td>70.769</td>\n",
       "      <td>0.33</td>\n",
       "    </tr>\n",
       "    <tr>\n",
       "      <th>1</th>\n",
       "      <td>70.775</td>\n",
       "      <td>70.804</td>\n",
       "      <td>70.855</td>\n",
       "      <td>70.625</td>\n",
       "      <td>-0.02</td>\n",
       "    </tr>\n",
       "    <tr>\n",
       "      <th>2</th>\n",
       "      <td>70.789</td>\n",
       "      <td>70.552</td>\n",
       "      <td>70.802</td>\n",
       "      <td>70.552</td>\n",
       "      <td>0.04</td>\n",
       "    </tr>\n",
       "    <tr>\n",
       "      <th>3</th>\n",
       "      <td>70.760</td>\n",
       "      <td>70.972</td>\n",
       "      <td>70.990</td>\n",
       "      <td>70.760</td>\n",
       "      <td>-0.31</td>\n",
       "    </tr>\n",
       "    <tr>\n",
       "      <th>4</th>\n",
       "      <td>70.980</td>\n",
       "      <td>70.762</td>\n",
       "      <td>71.065</td>\n",
       "      <td>70.724</td>\n",
       "      <td>0.04</td>\n",
       "    </tr>\n",
       "  </tbody>\n",
       "</table>\n",
       "</div>"
      ],
      "text/plain": [
       "    Price    Open    High     Low  Change %\n",
       "0  71.010  70.769  71.036  70.769      0.33\n",
       "1  70.775  70.804  70.855  70.625     -0.02\n",
       "2  70.789  70.552  70.802  70.552      0.04\n",
       "3  70.760  70.972  70.990  70.760     -0.31\n",
       "4  70.980  70.762  71.065  70.724      0.04"
      ]
     },
     "metadata": {},
     "output_type": "display_data"
    },
    {
     "data": {
      "text/plain": [
       "Text(0, 0.5, 'INR values')"
      ]
     },
     "execution_count": 4,
     "metadata": {},
     "output_type": "execute_result"
    },
    {
     "data": {
      "image/png": "[encoded data removed]",
      "text/plain": [
       "<Figure size 432x288 with 1 Axes>"
      ]
     },
     "metadata": {
      "needs_background": "light"
     },
     "output_type": "display_data"
    }
   ],
   "source": [
    "\n",
    "#dataset=pd.read_csv('11.csv')\n",
    "display(dataset.head())\n",
    "dataset.plot()\n",
    "plt.xlabel(\"Days\")\n",
    "plt.ylabel(\"INR values\")"
   ]
  },
  {
   "cell_type": "code",
   "execution_count": null,
   "metadata": {},
   "outputs": [],
   "source": []
  },
  {
   "cell_type": "code",
   "execution_count": 5,
   "metadata": {},
   "outputs": [],
   "source": [
    "\n",
    "#dataset=pd.read_csv('INRUSD2.csv')\n",
    "#display(dataset.head())\n",
    "#dataset.plot()\n",
    "# plt.xlabel(\"Days\")\n",
    "# plt.ylabel(\"INR values\")"
   ]
  },
  {
   "cell_type": "code",
   "execution_count": 6,
   "metadata": {},
   "outputs": [
    {
     "name": "stdout",
     "output_type": "stream",
     "text": [
      "         Price      Open      High       Low  Change %\n",
      "0     0.905572  0.897821  0.901959  0.906106  0.526897\n",
      "1     0.898908  0.898812  0.896821  0.901997  0.478621\n",
      "2     0.899305  0.891681  0.895316  0.899914  0.486897\n",
      "3     0.898483  0.903565  0.900653  0.905849  0.438621\n",
      "4     0.904721  0.897623  0.902782  0.904822  0.486897\n",
      "...        ...       ...       ...       ...       ...\n",
      "4928  0.217780  0.219157  0.214647  0.213980  0.488276\n",
      "4929  0.217071  0.218166  0.213880  0.217118  0.475862\n",
      "4930  0.217638  0.218166  0.214306  0.219401  0.488276\n",
      "4931  0.216929  0.220289  0.215299  0.220114  0.475862\n",
      "4932  0.217496  0.216893  0.215016  0.218117  0.474483\n",
      "\n",
      "[4933 rows x 5 columns]\n"
     ]
    }
   ],
   "source": [
    "#Rescaling\n",
    "\n",
    "\n",
    "scaler=pre.MinMaxScaler(feature_range=(0,1))\n",
    "rescaleData=scaler.fit_transform(dataset)\n",
    "rescaleData=pd.DataFrame(rescaleData,index=dataset.index,columns=dataset.columns)\n",
    "print(rescaleData)"
   ]
  },
  {
   "cell_type": "code",
   "execution_count": 7,
   "metadata": {},
   "outputs": [],
   "source": [
    "#Standardization\n",
    "# scaler=StandardScaler().fit(dataset)\n",
    "# standardizedData=scaler.transform(dataset)\n",
    "# standardizedData=pd.DataFrame(standardizedData,index=dataset.index,columns=dataset.columns)\n",
    "# display(standardizedData)"
   ]
  },
  {
   "cell_type": "code",
   "execution_count": 8,
   "metadata": {},
   "outputs": [],
   "source": [
    "#Normalization\n",
    "# scaler=Normalizer().fit(dataset)\n",
    "# normalizedData=scaler.transform(dataset)\n",
    "# normalizedData=pd.DataFrame(normalizedData,index=dataset.index,columns=dataset.columns)\n",
    "# display(normalizedData)"
   ]
  },
  {
   "cell_type": "code",
   "execution_count": 9,
   "metadata": {},
   "outputs": [],
   "source": [
    "#Binarization\n",
    "# binarizer=Binarizer(threshold=0.0).fit(dataset)\n",
    "# binData=binarizer.transform(dataset)\n",
    "# binData=pd.DataFrame(binData,index=dataset.index,columns=dataset.columns)\n",
    "# display(binData)"
   ]
  },
  {
   "cell_type": "code",
   "execution_count": null,
   "metadata": {},
   "outputs": [],
   "source": []
  },
  {
   "cell_type": "code",
   "execution_count": null,
   "metadata": {},
   "outputs": [],
   "source": []
  },
  {
   "cell_type": "code",
   "execution_count": 10,
   "metadata": {},
   "outputs": [
    {
     "name": "stdout",
     "output_type": "stream",
     "text": [
      "(3453, 4) (1480, 4) (3453,) (1480,)\n",
      "45.3700874653602         Open    High     Low  Change %\n",
      "2700  48.025  48.165  47.775      0.05\n",
      "253   71.995  71.995  71.715      0.09\n",
      "1247  61.515  61.520  61.475      0.07\n",
      "2969  42.755  43.000  42.645      0.25\n",
      "378   68.330  68.330  67.718     -0.89\n",
      "...      ...     ...     ...       ...\n",
      "886   67.188  67.396  67.061      0.16\n",
      "3977  46.200  46.470  46.200      0.15\n",
      "1078  66.117  66.260  65.670     -0.31\n",
      "2064  51.725  51.915  51.540      0.15\n",
      "4532  48.940  48.957  48.860     -0.08\n",
      "\n",
      "[1480 rows x 4 columns]\n",
      "Accuracy:  0.9999501431116481\n",
      "intercept: -0.022634187728527877\n",
      "coef: [0.14595636 0.41847615 0.43575401 0.27517075]\n",
      "Mean Absolute Error: 0.0481891873309054\n",
      "Mean Squared Error: 0.004687604433735325\n",
      "Root Mean Squared Error: 0.06846608236006589\n"
     ]
    }
   ],
   "source": [
    "#TRAINING AND TESTING \n",
    "#LINEAR REGRESSION\n",
    "\n",
    "from sklearn.model_selection import train_test_split\n",
    "x=dataset.drop('Price' , axis=1)\n",
    "y=dataset.Price\n",
    "#y=dataset.label\n",
    "train_x, test_x, train_y, test_y = train_test_split(x, y, test_size=0.3, random_state=900)\n",
    "\n",
    "# print(\"\\ntrain_x:\\n\")\n",
    "# display(train_x)\n",
    "# display(train_x.shape)\n",
    "\n",
    "# print(\"\\ntest_x:\\n\")\n",
    "# display(test_x)\n",
    "# display(test_x.shape)\n",
    "print(train_x.shape, test_x.shape, train_y.shape, test_y.shape)\n",
    "\n",
    "from sklearn.linear_model import LinearRegression\n",
    "from sklearn import metrics\n",
    "# lr=LinearRegression()\n",
    "# lr.fit(train_x, train_y)\n",
    "\n",
    "lr=LinearRegression()\n",
    "lr.fit(train_x, train_y)\n",
    "\n",
    "predictions=lr.predict(test_x)\n",
    "#display(predictions)\n",
    "print(predictions[5] ,test_x)\n",
    "\n",
    "\n",
    "print(\"Accuracy: \",lr.score(test_x, test_y))\n",
    "\n",
    "print(\"intercept:\",lr.intercept_)\n",
    "print(\"coef:\",lr.coef_)\n",
    "print('Mean Absolute Error:', metrics.mean_absolute_error(test_y, predictions))  \n",
    "print('Mean Squared Error:', metrics.mean_squared_error(test_y, predictions))  \n",
    "print('Root Mean Squared Error:', np.sqrt(metrics.mean_squared_error(test_y, predictions)))"
   ]
  },
  {
   "cell_type": "code",
   "execution_count": 11,
   "metadata": {},
   "outputs": [
    {
     "name": "stdout",
     "output_type": "stream",
     "text": [
      "Scores from each Iteration:  [0.9996710074739359, 0.9996912658563616, 0.9996700153565425, 0.999674660893931, 0.999693977723823]\n",
      "Average K-Fold Score : 0.9996801854609189\n"
     ]
    }
   ],
   "source": [
    "from sklearn.model_selection import KFold\n",
    "from sklearn.preprocessing import MinMaxScaler\n",
    "from sklearn.svm import SVR\n",
    "from sklearn.ensemble import RandomForestRegressor\n",
    "from sklearn.model_selection import cross_val_score, cross_val_predict\n",
    "df = pd.DataFrame(dataset.Price)\n",
    "y =  pd.DataFrame(dataset.High)\n",
    "df.shape,y.shape\n",
    "\n",
    "\n",
    "\n",
    "kf = KFold(n_splits = 5, shuffle = True)\n",
    "rf_reg = RandomForestRegressor()\n",
    "\n",
    "scores = []\n",
    "for i in range(5):\n",
    "    result = next(kf.split(df), None)\n",
    "    x_train = df.iloc[result[0]]\n",
    "    x_test = df.iloc[result[1]]\n",
    "    y_train = y.iloc[result[0]]\n",
    "    y_test = y.iloc[result[1]]\n",
    "    model = rf_reg.fit(x_train,y_train)\n",
    "    predictions = rf_reg.predict(x_test)\n",
    "    scores.append(model.score(x_test,y_test))\n",
    "print('Scores from each Iteration: ', scores)\n",
    "print('Average K-Fold Score :' , np.mean(scores))"
   ]
  },
  {
   "cell_type": "code",
   "execution_count": null,
   "metadata": {},
   "outputs": [],
   "source": []
  },
  {
   "cell_type": "code",
   "execution_count": 12,
   "metadata": {},
   "outputs": [],
   "source": [
    "# from matplotlib import pyplot as plt\n",
    "# plt.scatter(test_y , predictions)\n",
    "# plt.xlabel(\"True Values\")\n",
    "# plt.ylabel(\"predictions\")"
   ]
  },
  {
   "cell_type": "code",
   "execution_count": 13,
   "metadata": {},
   "outputs": [
    {
     "data": {
      "text/plain": [
       "Text(0, 0.5, 'predictions/Price')"
      ]
     },
     "execution_count": 13,
     "metadata": {},
     "output_type": "execute_result"
    },
    {
     "data": {
      "image/png": "[encoded data removed]",
      "text/plain": [
       "<Figure size 432x288 with 1 Axes>"
      ]
     },
     "metadata": {
      "needs_background": "light"
     },
     "output_type": "display_data"
    }
   ],
   "source": [
    "dataset.plot()\n",
    "\n",
    "plt.xlabel(\"Days\")\n",
    "plt.ylabel(\"predictions/Price\")\n"
   ]
  },
  {
   "cell_type": "markdown",
   "metadata": {},
   "source": []
  },
  {
   "cell_type": "code",
   "execution_count": 14,
   "metadata": {},
   "outputs": [],
   "source": [
    "#ARIMA \n",
    "\n",
    "\n",
    "from statsmodels.tsa.arima_model import ARIMA\n",
    "from random import random\n",
    "from pandas.plotting import autocorrelation_plot\n",
    "from statsmodels.tsa.stattools import acf, pacf\n",
    "import statsmodels.tsa.stattools  as ts\n",
    "\n"
   ]
  },
  {
   "cell_type": "code",
   "execution_count": 15,
   "metadata": {},
   "outputs": [
    {
     "name": "stdout",
     "output_type": "stream",
     "text": [
      "0       71.010\n",
      "1       70.775\n",
      "2       70.789\n",
      "3       70.760\n",
      "4       70.980\n",
      "         ...  \n",
      "4928    46.755\n",
      "4929    46.730\n",
      "4930    46.750\n",
      "4931    46.725\n",
      "4932    46.745\n",
      "Name: Price, Length: 4933, dtype: float64\n"
     ]
    }
   ],
   "source": [
    "Price=dataset['Price']\n",
    "print(Price)"
   ]
  },
  {
   "cell_type": "code",
   "execution_count": 16,
   "metadata": {},
   "outputs": [
    {
     "name": "stdout",
     "output_type": "stream",
     "text": [
      "0       4.262821\n",
      "1       4.259506\n",
      "2       4.259704\n",
      "3       4.259294\n",
      "4       4.262398\n",
      "          ...   \n",
      "4928    3.844921\n",
      "4929    3.844386\n",
      "4930    3.844814\n",
      "4931    3.844279\n",
      "4932    3.844707\n",
      "Name: Price, Length: 4933, dtype: float64\n"
     ]
    },
    {
     "data": {
      "image/png": "[encoded data removed]",
      "text/plain": [
       "<Figure size 432x288 with 1 Axes>"
      ]
     },
     "metadata": {
      "needs_background": "light"
     },
     "output_type": "display_data"
    }
   ],
   "source": [
    "lnprice=np.log(Price)\n",
    "print(lnprice)\n",
    "plt.plot(lnprice)\n",
    "plt.show()"
   ]
  },
  {
   "cell_type": "code",
   "execution_count": 17,
   "metadata": {},
   "outputs": [
    {
     "data": {
      "image/png": "[encoded data removed]",
      "text/plain": [
       "<Figure size 432x288 with 1 Axes>"
      ]
     },
     "metadata": {
      "needs_background": "light"
     },
     "output_type": "display_data"
    }
   ],
   "source": [
    "import pandas\n",
    "acf_1=acf(lnprice) [1:20]\n",
    "test_df=pandas.DataFrame([acf_1]).T\n",
    "test_df.columns=['Autocorrelation']\n",
    "test_df.index +=1\n",
    "test_df.plot()\n",
    "plt.show()"
   ]
  },
  {
   "cell_type": "code",
   "execution_count": 18,
   "metadata": {},
   "outputs": [
    {
     "data": {
      "image/png": "[encoded data removed]",
      "text/plain": [
       "<Figure size 432x288 with 1 Axes>"
      ]
     },
     "metadata": {
      "needs_background": "light"
     },
     "output_type": "display_data"
    }
   ],
   "source": [
    "pacf_1=pacf(lnprice) [1:20]\n",
    "test_df=pandas.DataFrame([acf_1]).T\n",
    "test_df.columns=['Partial Autocorrelation']\n",
    "test_df.index +=1\n",
    "test_df.plot(kind='bar')\n",
    "plt.show()"
   ]
  },
  {
   "cell_type": "code",
   "execution_count": 19,
   "metadata": {},
   "outputs": [
    {
     "name": "stdout",
     "output_type": "stream",
     "text": [
      "(-1.6300239564703918, 0.4674781735086474, 0, 4932, {'1%': -3.4316765828777305, '5%': -2.8621262044041633, '10%': -2.5670820376208074}, -40039.82577033836)\n"
     ]
    },
    {
     "data": {
      "image/png": "[encoded data removed]",
      "text/plain": [
       "<Figure size 432x288 with 1 Axes>"
      ]
     },
     "metadata": {
      "needs_background": "light"
     },
     "output_type": "display_data"
    }
   ],
   "source": [
    "result=ts.adfuller(lnprice,1)\n",
    "print(result)\n",
    "lnprice_diff=lnprice-lnprice.shift()\n",
    "diff=lnprice_diff.dropna()\n",
    "acf_1_diff=acf(diff)[1:20]\n",
    "test_df=pandas.DataFrame([acf_1_diff]).T\n",
    "test_df.columns=['first difference Autocorrelation']\n",
    "test_df.index +=1\n",
    "\n",
    "test_df.plot(kind='bar')\n",
    "pacf_1_diff=pacf(diff)[1:20]\n",
    "plt.plot(pacf_1_diff)\n",
    "plt.show()"
   ]
  },
  {
   "cell_type": "code",
   "execution_count": 20,
   "metadata": {},
   "outputs": [
    {
     "data": {
      "text/plain": [
       "<matplotlib.axes._subplots.AxesSubplot at 0x1dfeebace08>"
      ]
     },
     "execution_count": 20,
     "metadata": {},
     "output_type": "execute_result"
    },
    {
     "data": {
      "image/png": "[encoded data removed]",
      "text/plain": [
       "<Figure size 432x288 with 1 Axes>"
      ]
     },
     "metadata": {
      "needs_background": "light"
     },
     "output_type": "display_data"
    }
   ],
   "source": [
    "test_df=pandas.DataFrame([pacf_1_diff]).T\n",
    "\n",
    "test_df.columns=['first difference partial Autocorrelation']\n",
    "test_df.index +=1\n",
    "test_df.plot(kind='bar')\n"
   ]
  },
  {
   "cell_type": "code",
   "execution_count": 21,
   "metadata": {},
   "outputs": [
    {
     "name": "stdout",
     "output_type": "stream",
     "text": [
      "                             ARIMA Model Results                              \n",
      "==============================================================================\n",
      "Dep. Variable:                D.Price   No. Observations:                 4932\n",
      "Model:                 ARIMA(5, 1, 0)   Log Likelihood                 304.539\n",
      "Method:                       css-mle   S.D. of innovations              0.227\n",
      "Date:                Mon, 23 Mar 2020   AIC                           -595.078\n",
      "Time:                        19:38:04   BIC                           -549.553\n",
      "Sample:                             1   HQIC                          -579.111\n",
      "                                                                              \n",
      "=================================================================================\n",
      "                    coef    std err          z      P>|z|      [0.025      0.975]\n",
      "---------------------------------------------------------------------------------\n",
      "const            -0.0049      0.003     -1.452      0.147      -0.012       0.002\n",
      "ar.L1.D.Price     0.0136      0.014      0.953      0.340      -0.014       0.041\n",
      "ar.L2.D.Price    -0.0783      0.014     -5.520      0.000      -0.106      -0.050\n",
      "ar.L3.D.Price    -0.0196      0.014     -1.380      0.168      -0.047       0.008\n",
      "ar.L4.D.Price     0.0750      0.014      5.290      0.000       0.047       0.103\n",
      "ar.L5.D.Price     0.0530      0.014      3.732      0.000       0.025       0.081\n",
      "                                    Roots                                    \n",
      "=============================================================================\n",
      "                  Real          Imaginary           Modulus         Frequency\n",
      "-----------------------------------------------------------------------------\n",
      "AR.1            1.6748           -0.0000j            1.6748           -0.0000\n",
      "AR.2            0.2976           -1.5555j            1.5837           -0.2199\n",
      "AR.3            0.2976           +1.5555j            1.5837            0.2199\n",
      "AR.4           -1.8420           -1.0464j            2.1185           -0.4178\n",
      "AR.5           -1.8420           +1.0464j            2.1185            0.4178\n",
      "-----------------------------------------------------------------------------\n",
      "68    70.750479\n",
      "69    69.726946\n",
      "70    69.125658\n",
      "dtype: float64\n",
      "68    5.327732e+30\n",
      "69    1.914379e+30\n",
      "70    1.049281e+30\n",
      "dtype: float64\n"
     ]
    },
    {
     "data": {
      "image/png": "[encoded data removed]",
      "text/plain": [
       "<Figure size 432x288 with 1 Axes>"
      ]
     },
     "metadata": {
      "needs_background": "light"
     },
     "output_type": "display_data"
    }
   ],
   "source": [
    "Price_matrix=lnprice.as_matrix()\n",
    "model = ARIMA(Price, order=(5,1,0))\n",
    "model_fit = model.fit(disp=0)\n",
    "print(model_fit.summary())\n",
    "predictionss=model_fit.predict(68, 70, typ='levels')\n",
    "print(predictionss)\n",
    "predictionssadjusted=np.exp(predictionss)\n",
    "\n",
    "print(predictionssadjusted)\n",
    "\n",
    "plt.plot(predictionssadjusted)\n",
    "plt.title('forcasted price')\n",
    "plt.show()\n",
    "\n",
    "\n"
   ]
  },
  {
   "cell_type": "code",
   "execution_count": 22,
   "metadata": {},
   "outputs": [
    {
     "data": {
      "text/plain": [
       "count     3.000000\n",
       "mean     69.867694\n",
       "std       0.821503\n",
       "min      69.125658\n",
       "25%      69.426302\n",
       "50%      69.726946\n",
       "75%      70.238712\n",
       "max      70.750479\n",
       "dtype: float64"
      ]
     },
     "execution_count": 22,
     "metadata": {},
     "output_type": "execute_result"
    }
   ],
   "source": [
    "predictionss.describe()"
   ]
  },
  {
   "cell_type": "code",
   "execution_count": null,
   "metadata": {},
   "outputs": [],
   "source": []
  },
  {
   "cell_type": "code",
   "execution_count": 23,
   "metadata": {},
   "outputs": [
    {
     "data": {
      "text/html": [
       "<div>\n",
       "<style scoped>\n",
       "    .dataframe tbody tr th:only-of-type {\n",
       "        vertical-align: middle;\n",
       "    }\n",
       "\n",
       "    .dataframe tbody tr th {\n",
       "        vertical-align: top;\n",
       "    }\n",
       "\n",
       "    .dataframe thead th {\n",
       "        text-align: right;\n",
       "    }\n",
       "</style>\n",
       "<table border=\"1\" class=\"dataframe\">\n",
       "  <thead>\n",
       "    <tr style=\"text-align: right;\">\n",
       "      <th></th>\n",
       "      <th>Price</th>\n",
       "      <th>Open</th>\n",
       "      <th>High</th>\n",
       "      <th>Low</th>\n",
       "      <th>Change %</th>\n",
       "    </tr>\n",
       "  </thead>\n",
       "  <tbody>\n",
       "    <tr>\n",
       "      <th>0</th>\n",
       "      <td>71.010</td>\n",
       "      <td>70.769</td>\n",
       "      <td>71.036</td>\n",
       "      <td>70.769</td>\n",
       "      <td>0.33</td>\n",
       "    </tr>\n",
       "    <tr>\n",
       "      <th>1</th>\n",
       "      <td>70.775</td>\n",
       "      <td>70.804</td>\n",
       "      <td>70.855</td>\n",
       "      <td>70.625</td>\n",
       "      <td>-0.02</td>\n",
       "    </tr>\n",
       "    <tr>\n",
       "      <th>2</th>\n",
       "      <td>70.789</td>\n",
       "      <td>70.552</td>\n",
       "      <td>70.802</td>\n",
       "      <td>70.552</td>\n",
       "      <td>0.04</td>\n",
       "    </tr>\n",
       "    <tr>\n",
       "      <th>3</th>\n",
       "      <td>70.760</td>\n",
       "      <td>70.972</td>\n",
       "      <td>70.990</td>\n",
       "      <td>70.760</td>\n",
       "      <td>-0.31</td>\n",
       "    </tr>\n",
       "    <tr>\n",
       "      <th>4</th>\n",
       "      <td>70.980</td>\n",
       "      <td>70.762</td>\n",
       "      <td>71.065</td>\n",
       "      <td>70.724</td>\n",
       "      <td>0.04</td>\n",
       "    </tr>\n",
       "    <tr>\n",
       "      <th>...</th>\n",
       "      <td>...</td>\n",
       "      <td>...</td>\n",
       "      <td>...</td>\n",
       "      <td>...</td>\n",
       "      <td>...</td>\n",
       "    </tr>\n",
       "    <tr>\n",
       "      <th>4928</th>\n",
       "      <td>46.755</td>\n",
       "      <td>46.785</td>\n",
       "      <td>46.822</td>\n",
       "      <td>46.510</td>\n",
       "      <td>0.05</td>\n",
       "    </tr>\n",
       "    <tr>\n",
       "      <th>4929</th>\n",
       "      <td>46.730</td>\n",
       "      <td>46.750</td>\n",
       "      <td>46.795</td>\n",
       "      <td>46.620</td>\n",
       "      <td>-0.04</td>\n",
       "    </tr>\n",
       "    <tr>\n",
       "      <th>4930</th>\n",
       "      <td>46.750</td>\n",
       "      <td>46.750</td>\n",
       "      <td>46.810</td>\n",
       "      <td>46.700</td>\n",
       "      <td>0.05</td>\n",
       "    </tr>\n",
       "    <tr>\n",
       "      <th>4931</th>\n",
       "      <td>46.725</td>\n",
       "      <td>46.825</td>\n",
       "      <td>46.845</td>\n",
       "      <td>46.725</td>\n",
       "      <td>-0.04</td>\n",
       "    </tr>\n",
       "    <tr>\n",
       "      <th>4932</th>\n",
       "      <td>46.745</td>\n",
       "      <td>46.705</td>\n",
       "      <td>46.835</td>\n",
       "      <td>46.655</td>\n",
       "      <td>-0.05</td>\n",
       "    </tr>\n",
       "  </tbody>\n",
       "</table>\n",
       "<p>4933 rows × 5 columns</p>\n",
       "</div>"
      ],
      "text/plain": [
       "       Price    Open    High     Low  Change %\n",
       "0     71.010  70.769  71.036  70.769      0.33\n",
       "1     70.775  70.804  70.855  70.625     -0.02\n",
       "2     70.789  70.552  70.802  70.552      0.04\n",
       "3     70.760  70.972  70.990  70.760     -0.31\n",
       "4     70.980  70.762  71.065  70.724      0.04\n",
       "...      ...     ...     ...     ...       ...\n",
       "4928  46.755  46.785  46.822  46.510      0.05\n",
       "4929  46.730  46.750  46.795  46.620     -0.04\n",
       "4930  46.750  46.750  46.810  46.700      0.05\n",
       "4931  46.725  46.825  46.845  46.725     -0.04\n",
       "4932  46.745  46.705  46.835  46.655     -0.05\n",
       "\n",
       "[4933 rows x 5 columns]"
      ]
     },
     "execution_count": 23,
     "metadata": {},
     "output_type": "execute_result"
    }
   ],
   "source": [
    "#neural network\n",
    "df=pd.read_csv('INRUSD2.csv')\n",
    "df"
   ]
  },
  {
   "cell_type": "code",
   "execution_count": 24,
   "metadata": {},
   "outputs": [
    {
     "data": {
      "text/plain": [
       "array([[ 7.1010e+01,  7.0769e+01,  7.1036e+01,  7.0769e+01,  3.3000e-01],\n",
       "       [ 7.0775e+01,  7.0804e+01,  7.0855e+01,  7.0625e+01, -2.0000e-02],\n",
       "       [ 7.0789e+01,  7.0552e+01,  7.0802e+01,  7.0552e+01,  4.0000e-02],\n",
       "       ...,\n",
       "       [ 4.6750e+01,  4.6750e+01,  4.6810e+01,  4.6700e+01,  5.0000e-02],\n",
       "       [ 4.6725e+01,  4.6825e+01,  4.6845e+01,  4.6725e+01, -4.0000e-02],\n",
       "       [ 4.6745e+01,  4.6705e+01,  4.6835e+01,  4.6655e+01, -5.0000e-02]])"
      ]
     },
     "execution_count": 24,
     "metadata": {},
     "output_type": "execute_result"
    }
   ],
   "source": [
    "dataset = df.values\n",
    "dataset"
   ]
  },
  {
   "cell_type": "code",
   "execution_count": 25,
   "metadata": {},
   "outputs": [],
   "source": [
    "X = dataset[:,0:10]\n",
    "Y = dataset[:,4]"
   ]
  },
  {
   "cell_type": "code",
   "execution_count": 26,
   "metadata": {},
   "outputs": [
    {
     "data": {
      "text/plain": [
       "array([[0.9055721 , 0.89782117, 0.90195856, 0.90610556, 0.52689655],\n",
       "       [0.89890827, 0.89881154, 0.89682089, 0.90199715, 0.47862069],\n",
       "       [0.89930526, 0.89168081, 0.89531649, 0.89991441, 0.48689655],\n",
       "       ...,\n",
       "       [0.21763788, 0.21816638, 0.21430599, 0.21940086, 0.48827586],\n",
       "       [0.21692897, 0.22028862, 0.21529946, 0.22011412, 0.47586207],\n",
       "       [0.2174961 , 0.21689304, 0.21501561, 0.21811698, 0.47448276]])"
      ]
     },
     "execution_count": 26,
     "metadata": {},
     "output_type": "execute_result"
    }
   ],
   "source": [
    "from sklearn import preprocessing\n",
    "min_max_scaler = preprocessing.MinMaxScaler()\n",
    "X_scale = min_max_scaler.fit_transform(X)\n",
    "X_scale"
   ]
  },
  {
   "cell_type": "code",
   "execution_count": 27,
   "metadata": {},
   "outputs": [
    {
     "name": "stdout",
     "output_type": "stream",
     "text": [
      "(3453, 5) (740, 5) (740, 5) (3453,) (740,) (740,)\n"
     ]
    }
   ],
   "source": [
    "from sklearn.model_selection import train_test_split\n",
    "X_train, X_val_and_test, Y_train, Y_val_and_test = train_test_split(X_scale, Y, test_size=0.3)\n",
    "X_val, X_test, Y_val, Y_test = train_test_split(X_val_and_test, Y_val_and_test, test_size=0.5)\n",
    "\n",
    "\n",
    "print(X_train.shape, X_val.shape, X_test.shape, Y_train.shape, Y_val.shape, Y_test.shape)"
   ]
  },
  {
   "cell_type": "code",
   "execution_count": 28,
   "metadata": {},
   "outputs": [
    {
     "name": "stderr",
     "output_type": "stream",
     "text": [
      "Using TensorFlow backend.\n"
     ]
    }
   ],
   "source": [
    "from keras.models import Sequential \n",
    "from keras.layers import Dense"
   ]
  },
  {
   "cell_type": "code",
   "execution_count": 29,
   "metadata": {
    "scrolled": true
   },
   "outputs": [
    {
     "name": "stdout",
     "output_type": "stream",
     "text": [
      "Train on 3453 samples, validate on 740 samples\n",
      "Epoch 1/15\n",
      "3453/3453 [==============================] - 2s 575us/step - loss: 0.3655 - accuracy: 0.0405 - val_loss: 0.2695 - val_accuracy: 0.0500\n",
      "Epoch 2/15\n",
      "3453/3453 [==============================] - 0s 74us/step - loss: 0.2613 - accuracy: 0.0455 - val_loss: 0.2138 - val_accuracy: 0.0500\n",
      "Epoch 3/15\n",
      "3453/3453 [==============================] - 0s 68us/step - loss: 0.2186 - accuracy: 0.0455 - val_loss: 0.1920 - val_accuracy: 0.0500\n",
      "Epoch 4/15\n",
      "3453/3453 [==============================] - 0s 145us/step - loss: 0.2002 - accuracy: 0.0455 - val_loss: 0.1826 - val_accuracy: 0.0500\n",
      "Epoch 5/15\n",
      "3453/3453 [==============================] - 0s 116us/step - loss: 0.1910 - accuracy: 0.0455 - val_loss: 0.1779 - val_accuracy: 0.0500\n",
      "Epoch 6/15\n",
      "3453/3453 [==============================] - 0s 78us/step - loss: 0.1859 - accuracy: 0.0455 - val_loss: 0.1753 - val_accuracy: 0.0500\n",
      "Epoch 7/15\n",
      "3453/3453 [==============================] - 0s 128us/step - loss: 0.1828 - accuracy: 0.0455 - val_loss: 0.1738 - val_accuracy: 0.0500\n",
      "Epoch 8/15\n",
      "3453/3453 [==============================] - 1s 147us/step - loss: 0.1808 - accuracy: 0.0455 - val_loss: 0.1728 - val_accuracy: 0.0500\n",
      "Epoch 9/15\n",
      "3453/3453 [==============================] - 0s 79us/step - loss: 0.1794 - accuracy: 0.0455 - val_loss: 0.1722 - val_accuracy: 0.0500\n",
      "Epoch 10/15\n",
      "3453/3453 [==============================] - 0s 132us/step - loss: 0.1783 - accuracy: 0.0455 - val_loss: 0.1717 - val_accuracy: 0.0500\n",
      "Epoch 11/15\n",
      "3453/3453 [==============================] - 0s 115us/step - loss: 0.1775 - accuracy: 0.0455 - val_loss: 0.1713 - val_accuracy: 0.0500\n",
      "Epoch 12/15\n",
      "3453/3453 [==============================] - 0s 85us/step - loss: 0.1769 - accuracy: 0.0455 - val_loss: 0.1711 - val_accuracy: 0.0500\n",
      "Epoch 13/15\n",
      "3453/3453 [==============================] - 0s 65us/step - loss: 0.1764 - accuracy: 0.0455 - val_loss: 0.1709 - val_accuracy: 0.0500\n",
      "Epoch 14/15\n",
      "3453/3453 [==============================] - 0s 79us/step - loss: 0.1760 - accuracy: 0.0455 - val_loss: 0.1707 - val_accuracy: 0.0500\n",
      "Epoch 15/15\n",
      "3453/3453 [==============================] - 0s 94us/step - loss: 0.1757 - accuracy: 0.0455 - val_loss: 0.1706 - val_accuracy: 0.0500\n"
     ]
    }
   ],
   "source": [
    "model = Sequential([Dense(32, activation='relu', input_shape=(5,)), Dense(32, activation='relu'), Dense(1, activation='sigmoid')])\n",
    "\n",
    "# Dense(32, activation='relu', input_shape=(5,))\n",
    "# Dense(32, activation='relu')\n",
    "# Dense(1, activation='sigmoid')\n",
    "\n",
    "\n",
    "\n",
    "model.compile(optimizer='sgd', loss='mean_squared_error', metrics=['accuracy'])\n",
    "optimizer='sgd'\n",
    "loss='binary_crossentropy'\n",
    "metrics=['accuracy']\n",
    "\n",
    "hist = model.fit(X_train, Y_train, batch_size=32, epochs=15, validation_data=(X_val, Y_val))\n"
   ]
  },
  {
   "cell_type": "code",
   "execution_count": 30,
   "metadata": {},
   "outputs": [
    {
     "name": "stdout",
     "output_type": "stream",
     "text": [
      "740/740 [==============================] - 0s 53us/step\n"
     ]
    },
    {
     "data": {
      "text/plain": [
       "0.03918918967247009"
      ]
     },
     "execution_count": 30,
     "metadata": {},
     "output_type": "execute_result"
    }
   ],
   "source": [
    "model.evaluate(X_test, Y_test)[1]"
   ]
  },
  {
   "cell_type": "code",
   "execution_count": 31,
   "metadata": {},
   "outputs": [
    {
     "data": {
      "image/png": "[encoded data removed]",
      "text/plain": [
       "<Figure size 432x288 with 1 Axes>"
      ]
     },
     "metadata": {
      "needs_background": "light"
     },
     "output_type": "display_data"
    }
   ],
   "source": [
    "import matplotlib.pyplot as plt\n",
    "plt.plot(hist.history['loss'])\n",
    "plt.plot(hist.history['val_loss'])\n",
    "plt.title('Model loss')\n",
    "plt.ylabel('Loss')\n",
    "plt.xlabel('Epoch')\n",
    "plt.legend(['Train', 'Val'], loc='upper right')\n",
    "plt.show()"
   ]
  },
  {
   "cell_type": "code",
   "execution_count": 32,
   "metadata": {},
   "outputs": [
    {
     "data": {
      "image/png": "[encoded data removed]",
      "text/plain": [
       "<Figure size 432x288 with 1 Axes>"
      ]
     },
     "metadata": {
      "needs_background": "light"
     },
     "output_type": "display_data"
    }
   ],
   "source": [
    "plt.plot(hist.history['accuracy'])\n",
    "plt.plot(hist.history['val_accuracy'])\n",
    "plt.title('Model accuracy')\n",
    "plt.ylabel('Accuracy')\n",
    "plt.xlabel('Epoch')\n",
    "plt.legend(['Train', 'Val'], loc='lower right')\n",
    "plt.show()"
   ]
  },
  {
   "cell_type": "code",
   "execution_count": 33,
   "metadata": {},
   "outputs": [
    {
     "name": "stdout",
     "output_type": "stream",
     "text": [
      "Train on 3453 samples, validate on 740 samples\n",
      "Epoch 1/10\n",
      "3453/3453 [==============================] - 1s 380us/step - loss: 0.1964 - accuracy: 0.0455 - val_loss: 0.1703 - val_accuracy: 0.0500\n",
      "Epoch 2/10\n",
      "3453/3453 [==============================] - 1s 224us/step - loss: 0.1721 - accuracy: 0.0455 - val_loss: 0.1703 - val_accuracy: 0.0500\n",
      "Epoch 3/10\n",
      "3453/3453 [==============================] - 1s 224us/step - loss: 0.1721 - accuracy: 0.0455 - val_loss: 0.1703 - val_accuracy: 0.0500\n",
      "Epoch 4/10\n",
      "3453/3453 [==============================] - 1s 178us/step - loss: 0.1721 - accuracy: 0.0455 - val_loss: 0.1703 - val_accuracy: 0.0500\n",
      "Epoch 5/10\n",
      "3453/3453 [==============================] - 1s 176us/step - loss: 0.1721 - accuracy: 0.0455 - val_loss: 0.1703 - val_accuracy: 0.0500\n",
      "Epoch 6/10\n",
      "3453/3453 [==============================] - 1s 167us/step - loss: 0.1721 - accuracy: 0.0455 - val_loss: 0.1703 - val_accuracy: 0.0500\n",
      "Epoch 7/10\n",
      "3453/3453 [==============================] - 1s 177us/step - loss: 0.1721 - accuracy: 0.0455 - val_loss: 0.1703 - val_accuracy: 0.0500\n",
      "Epoch 8/10\n",
      "3453/3453 [==============================] - 1s 170us/step - loss: 0.1721 - accuracy: 0.0455 - val_loss: 0.1703 - val_accuracy: 0.0500\n",
      "Epoch 9/10\n",
      "3453/3453 [==============================] - 1s 173us/step - loss: 0.1721 - accuracy: 0.0455 - val_loss: 0.1703 - val_accuracy: 0.0500\n",
      "Epoch 10/10\n",
      "3453/3453 [==============================] - 1s 190us/step - loss: 0.1721 - accuracy: 0.0455 - val_loss: 0.1703 - val_accuracy: 0.0500\n"
     ]
    }
   ],
   "source": [
    "model_2 = Sequential([Dense(100, activation='relu', input_shape=(5,)), Dense(100, activation='relu'), Dense(100, activation='relu'), Dense(100, activation='relu'), Dense(1, activation='sigmoid'),])\n",
    "\n",
    "\n",
    "\n",
    "\n",
    "\n",
    "model_2.compile(optimizer='adam', loss='mean_squared_error', metrics=['accuracy'])\n",
    "\n",
    "\n",
    "\n",
    "\n",
    "\n",
    "hist_2 = model_2.fit(X_train, Y_train, batch_size=32, epochs=10, validation_data=(X_val, Y_val))"
   ]
  },
  {
   "cell_type": "code",
   "execution_count": 34,
   "metadata": {
    "scrolled": true
   },
   "outputs": [
    {
     "data": {
      "text/plain": [
       "8179191999"
      ]
     },
     "execution_count": 34,
     "metadata": {},
     "output_type": "execute_result"
    }
   ],
   "source": []
  },
  {
   "cell_type": "code",
   "execution_count": 35,
   "metadata": {},
   "outputs": [
    {
     "data": {
      "image/png": "[encoded data removed]",
      "text/plain": [
       "<Figure size 432x288 with 1 Axes>"
      ]
     },
     "metadata": {
      "needs_background": "light"
     },
     "output_type": "display_data"
    }
   ],
   "source": [
    "plt.plot(hist_2.history['loss'])\n",
    "plt.plot(hist_2.history['val_loss'])\n",
    "plt.title('Model loss')\n",
    "plt.ylabel('Loss')\n",
    "plt.xlabel('Epoch')\n",
    "plt.legend(['Train', 'Val'], loc='upper right')\n",
    "plt.show()"
   ]
  },
  {
   "cell_type": "code",
   "execution_count": 36,
   "metadata": {},
   "outputs": [
    {
     "data": {
      "image/png": "[encoded data removed]",
      "text/plain": [
       "<Figure size 432x288 with 1 Axes>"
      ]
     },
     "metadata": {
      "needs_background": "light"
     },
     "output_type": "display_data"
    }
   ],
   "source": [
    "plt.plot(hist_2.history['accuracy'])\n",
    "plt.plot(hist_2.history['val_accuracy'])\n",
    "plt.title('Model accuracy')\n",
    "plt.ylabel('Accuracy')\n",
    "plt.xlabel('Epoch')\n",
    "plt.legend(['Train', 'Val'], loc='lower right')\n",
    "plt.show()\n",
    "\n"
   ]
  },
  {
   "cell_type": "code",
   "execution_count": 37,
   "metadata": {},
   "outputs": [
    {
     "name": "stdout",
     "output_type": "stream",
     "text": [
      "Train on 3453 samples, validate on 740 samples\n",
      "Epoch 1/5\n",
      "3453/3453 [==============================] - 21s 6ms/step - loss: 4.9455 - accuracy: 0.0455 - val_loss: 0.9771 - val_accuracy: 0.0500\n",
      "Epoch 2/5\n",
      "3453/3453 [==============================] - 21s 6ms/step - loss: -4242.3372 - accuracy: 0.0452 - val_loss: -12795.9801 - val_accuracy: 0.0500\n",
      "Epoch 3/5\n",
      "3453/3453 [==============================] - 19s 6ms/step - loss: -427724.1300 - accuracy: 0.0449 - val_loss: -964260.5236 - val_accuracy: 0.0486\n",
      "Epoch 4/5\n",
      "3453/3453 [==============================] - 20s 6ms/step - loss: -5982745.9551 - accuracy: 0.0455 - val_loss: -8384971.2921 - val_accuracy: 0.0500\n",
      "Epoch 5/5\n",
      "3453/3453 [==============================] - 18s 5ms/step - loss: -38411086.3436 - accuracy: 0.0455 - val_loss: -40844328.8162 - val_accuracy: 0.0500\n"
     ]
    }
   ],
   "source": [
    "from keras.layers import Dropout \n",
    "from keras import regularizers\n",
    "model_3 = Sequential([Dense(1000, activation='relu', kernel_regularizer=regularizers.l2(0.01), input_shape=(5,)), Dropout(0.3), Dense(1000, activation='relu', kernel_regularizer=regularizers.l2(0.01)), Dropout(0.3), Dense(1000, activation='relu', kernel_regularizer=regularizers.l2(0.01)), Dropout(0.3), Dense(1000, activation='relu', kernel_regularizer=regularizers.l2(0.01)), Dropout(0.3), Dense(1, activation='sigmoid', kernel_regularizer=regularizers.l2(0.01)),])\n",
    "kernel_regularizer=regularizers.l2(0.01)\n",
    "Dropout(0.3),\n",
    "\n",
    "model_3.compile(optimizer='adam', loss='binary_crossentropy', metrics=['accuracy'])\n",
    "\n",
    "hist_3 = model_3.fit(X_train, Y_train, batch_size=32, epochs=5, validation_data=(X_val, Y_val))\n"
   ]
  },
  {
   "cell_type": "code",
   "execution_count": 38,
   "metadata": {},
   "outputs": [
    {
     "data": {
      "image/png": "[encoded data removed]",
      "text/plain": [
       "<Figure size 432x288 with 1 Axes>"
      ]
     },
     "metadata": {
      "needs_background": "light"
     },
     "output_type": "display_data"
    }
   ],
   "source": [
    "plt.plot(hist_3.history['loss'])\n",
    "plt.plot(hist_3.history['val_loss'])\n",
    "plt.title('Model loss')\n",
    "plt.ylabel('Loss')\n",
    "plt.xlabel('Epoch')\n",
    "plt.legend(['Train', 'Val'], loc='upper right')\n",
    "plt.ylim(top=1.2, bottom=0)\n",
    "plt.show()"
   ]
  },
  {
   "cell_type": "code",
   "execution_count": 39,
   "metadata": {},
   "outputs": [
    {
     "data": {
      "image/png": "[encoded data removed]",
      "text/plain": [
       "<Figure size 432x288 with 1 Axes>"
      ]
     },
     "metadata": {
      "needs_background": "light"
     },
     "output_type": "display_data"
    }
   ],
   "source": [
    "plt.plot(hist_3.history['accuracy'])\n",
    "plt.plot(hist_3.history['val_accuracy'])\n",
    "plt.title('Model accuracy')\n",
    "plt.ylabel('Accuracy')\n",
    "plt.xlabel('Epoch')\n",
    "plt.legend(['Train', 'Val'], loc='lower right')\n",
    "plt.show()"
   ]
  },
  {
   "cell_type": "code",
   "execution_count": null,
   "metadata": {},
   "outputs": [],
   "source": []
  },
  {
   "cell_type": "code",
   "execution_count": null,
   "metadata": {},
   "outputs": [],
   "source": []
  },
  {
   "cell_type": "code",
   "execution_count": 42,
   "metadata": {},
   "outputs": [
    {
     "name": "stdout",
     "output_type": "stream",
     "text": [
      "(3453, 4) (1480, 4) (3453,) (1480,)\n",
      "45.37214708236509         Open    High     Low  Change %\n",
      "2700  48.025  48.165  47.775      0.05\n",
      "253   71.995  71.995  71.715      0.09\n",
      "1247  61.515  61.520  61.475      0.07\n",
      "2969  42.755  43.000  42.645      0.25\n",
      "378   68.330  68.330  67.718     -0.89\n",
      "...      ...     ...     ...       ...\n",
      "886   67.188  67.396  67.061      0.16\n",
      "3977  46.200  46.470  46.200      0.15\n",
      "1078  66.117  66.260  65.670     -0.31\n",
      "2064  51.725  51.915  51.540      0.15\n",
      "4532  48.940  48.957  48.860     -0.08\n",
      "\n",
      "[1480 rows x 4 columns]\n",
      "Accuracy:  0.9980468522737362\n",
      "intercept: [55.93307315]\n",
      "Mean Absolute Error: 0.14687236472610712\n",
      "Mean Squared Error: 0.1836372915369198\n",
      "Root Mean Squared Error: 0.42852921900019814\n"
     ]
    }
   ],
   "source": [
    "dataset=pd.read_csv('INRUSD2.csv')\n",
    "from sklearn import svm\n",
    "from sklearn.model_selection import train_test_split\n",
    "x=dataset.drop('Price' , axis=1)\n",
    "y=dataset.Price\n",
    "\n",
    "train_x, test_x, train_y, test_y = train_test_split(x, y, test_size=0.3, random_state=900)\n",
    "print(train_x.shape, test_x.shape, train_y.shape, test_y.shape)\n",
    "\n",
    "from sklearn.linear_model import LinearRegression\n",
    "from sklearn import metrics\n",
    "\n",
    "lr=svm.SVR()\n",
    "lr.fit(train_x, train_y)\n",
    "\n",
    "predictions=lr.predict(test_x)\n",
    "#display(predictions)\n",
    "print(predictions[5] ,test_x)\n",
    "\n",
    "\n",
    "print(\"Accuracy: \",lr.score(test_x, test_y))\n",
    "\n",
    "print(\"intercept:\",lr.intercept_)\n",
    "#print(\"coef:\",lr.coef_)\n",
    "print('Mean Absolute Error:', metrics.mean_absolute_error(test_y, predictions))  \n",
    "print('Mean Squared Error:', metrics.mean_squared_error(test_y, predictions))  \n",
    "print('Root Mean Squared Error:', np.sqrt(metrics.mean_squared_error(test_y, predictions)))"
   ]
  },
  {
   "cell_type": "code",
   "execution_count": null,
   "metadata": {},
   "outputs": [],
   "source": []
  },
  {
   "cell_type": "code",
   "execution_count": null,
   "metadata": {},
   "outputs": [],
   "source": []
  },
  {
   "cell_type": "code",
   "execution_count": null,
   "metadata": {},
   "outputs": [],
   "source": []
  },
  {
   "cell_type": "code",
   "execution_count": null,
   "metadata": {},
   "outputs": [],
   "source": []
  }
 ],
 "metadata": {
  "kernelspec": {
   "display_name": "Python 3",
   "language": "python",
   "name": "python3"
  },
  "language_info": {
   "codemirror_mode": {
    "name": "ipython",
    "version": 3
   },
   "file_extension": ".py",
   "mimetype": "text/x-python",
   "name": "python",
   "nbconvert_exporter": "python",
   "pygments_lexer": "ipython3",
   "version": "3.7.5"
  }
 },
 "nbformat": 4,
 "nbformat_minor": 2
}
